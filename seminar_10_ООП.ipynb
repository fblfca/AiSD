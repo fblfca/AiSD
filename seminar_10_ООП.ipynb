{
 "cells": [
  {
   "cell_type": "markdown",
   "id": "b9c9194d",
   "metadata": {},
   "source": [
    "# №1\n"
   ]
  },
  {
   "cell_type": "markdown",
   "id": "a06221d0",
   "metadata": {},
   "source": [
    "Создать класс «Студент» и реализовать методы для установки и получения имени студента."
   ]
  },
  {
   "cell_type": "code",
   "execution_count": 85,
   "id": "c9ffa83d",
   "metadata": {},
   "outputs": [],
   "source": [
    "class Student(object):\n",
    "    def __init__(self, name):\n",
    "        self.__name = name\n",
    "    \n",
    "    @property\n",
    "    def students_name(self):\n",
    "        return self.__name\n",
    "    \n",
    "    @students_name.setter\n",
    "    def students_name(self, new_name):\n",
    "        self.__name = new_name\n",
    "    \n"
   ]
  },
  {
   "cell_type": "code",
   "execution_count": 86,
   "id": "ec47fa80",
   "metadata": {},
   "outputs": [],
   "source": [
    "student = Student('Kolya')"
   ]
  },
  {
   "cell_type": "code",
   "execution_count": 87,
   "id": "7e5ee563",
   "metadata": {},
   "outputs": [
    {
     "name": "stdout",
     "output_type": "stream",
     "text": [
      "Kolya\n"
     ]
    }
   ],
   "source": [
    "print(student.students_name)"
   ]
  },
  {
   "cell_type": "code",
   "execution_count": 88,
   "id": "97b6833f",
   "metadata": {},
   "outputs": [],
   "source": [
    "student.students_name = 'Petya'"
   ]
  },
  {
   "cell_type": "code",
   "execution_count": 89,
   "id": "29887bee",
   "metadata": {},
   "outputs": [
    {
     "data": {
      "text/plain": [
       "'Petya'"
      ]
     },
     "execution_count": 89,
     "metadata": {},
     "output_type": "execute_result"
    }
   ],
   "source": [
    "student.students_name"
   ]
  },
  {
   "cell_type": "markdown",
   "id": "bbd2a241",
   "metadata": {},
   "source": [
    "# №2"
   ]
  },
  {
   "cell_type": "markdown",
   "id": "83790d51",
   "metadata": {},
   "source": [
    "Создать класс «Товар» с методами для установки и получения цены товара."
   ]
  },
  {
   "cell_type": "code",
   "execution_count": 90,
   "id": "18991499",
   "metadata": {},
   "outputs": [],
   "source": [
    "class Product(object):\n",
    "    def __init__(self, price):\n",
    "        self.__price = price\n",
    "    \n",
    "    @property\n",
    "    def product_price(self):\n",
    "        return self.__price\n",
    "    \n",
    "    @product_price.setter\n",
    "    def product_price(self, new_price):\n",
    "        self.__price = new_price\n",
    "    "
   ]
  },
  {
   "cell_type": "code",
   "execution_count": 91,
   "id": "1a91b648",
   "metadata": {},
   "outputs": [],
   "source": [
    "product = Product(50)"
   ]
  },
  {
   "cell_type": "code",
   "execution_count": 92,
   "id": "29a11be4",
   "metadata": {},
   "outputs": [
    {
     "data": {
      "text/plain": [
       "50"
      ]
     },
     "execution_count": 92,
     "metadata": {},
     "output_type": "execute_result"
    }
   ],
   "source": [
    "product.product_price"
   ]
  },
  {
   "cell_type": "code",
   "execution_count": 93,
   "id": "a123a7dc",
   "metadata": {},
   "outputs": [],
   "source": [
    "product.product_price = 100"
   ]
  },
  {
   "cell_type": "code",
   "execution_count": 94,
   "id": "904fb971",
   "metadata": {},
   "outputs": [
    {
     "data": {
      "text/plain": [
       "100"
      ]
     },
     "execution_count": 94,
     "metadata": {},
     "output_type": "execute_result"
    }
   ],
   "source": [
    "product.product_price"
   ]
  },
  {
   "cell_type": "code",
   "execution_count": 95,
   "id": "f1540000",
   "metadata": {},
   "outputs": [
    {
     "data": {
      "text/plain": [
       "{'_Product__price': 100}"
      ]
     },
     "execution_count": 95,
     "metadata": {},
     "output_type": "execute_result"
    }
   ],
   "source": [
    "product.__dict__"
   ]
  },
  {
   "cell_type": "markdown",
   "id": "5fbc2c60",
   "metadata": {},
   "source": [
    "# №3"
   ]
  },
  {
   "cell_type": "markdown",
   "id": "f253e092",
   "metadata": {},
   "source": [
    "Создать класс 'Калькулятор' с методами для выполнения простых математических операций: сложение, вычитание, умножение и деление."
   ]
  },
  {
   "cell_type": "code",
   "execution_count": 96,
   "id": "24908e05",
   "metadata": {},
   "outputs": [],
   "source": [
    "from functools import reduce\n",
    "class Calculator(object):\n",
    "    def __init__(self):\n",
    "        pass\n",
    "    \n",
    "    def _sum(self, first, second):\n",
    "        return sum((first, second))\n",
    "    \n",
    "    def _subtraction(self, first, second):\n",
    "        return first - second\n",
    "    \n",
    "    def _multiply(self, first, second):\n",
    "        return first * second\n",
    "    \n",
    "    def _division(self, first, second):\n",
    "        if second != 0:\n",
    "            return round(first / second, 3)\n",
    "        else:\n",
    "            return 'its impossible to divide by zero'\n",
    "    \n",
    "    def multiple_sum(self, *nums):\n",
    "        return reduce(self._sum, *nums)\n",
    "    \n",
    "    def multiple_subtraction(self, *nums):\n",
    "        return reduce(self._subtraction, *nums)\n",
    "    \n",
    "    def multiple_multiply(self, *nums):\n",
    "        return reduce(self._multiply, *nums)\n",
    "    \n",
    "    def multiple_division(self, *nums):\n",
    "        if 0 in nums[0:]:\n",
    "            return 'its impossible to divide by zero'\n",
    "        else:\n",
    "            return round(reduce(self._division, *nums), 3)\n",
    "    "
   ]
  },
  {
   "cell_type": "code",
   "execution_count": 97,
   "id": "673cfc71",
   "metadata": {},
   "outputs": [],
   "source": [
    "calculator = Calculator()"
   ]
  },
  {
   "cell_type": "code",
   "execution_count": 98,
   "id": "20ada852",
   "metadata": {},
   "outputs": [
    {
     "data": {
      "text/plain": [
       "11"
      ]
     },
     "execution_count": 98,
     "metadata": {},
     "output_type": "execute_result"
    }
   ],
   "source": [
    "calculator._sum(5, 6)"
   ]
  },
  {
   "cell_type": "code",
   "execution_count": 99,
   "id": "f4789eb3",
   "metadata": {},
   "outputs": [
    {
     "data": {
      "text/plain": [
       "15"
      ]
     },
     "execution_count": 99,
     "metadata": {},
     "output_type": "execute_result"
    }
   ],
   "source": [
    "calculator.multiple_sum([1,2,3,4,5])"
   ]
  },
  {
   "cell_type": "code",
   "execution_count": 100,
   "id": "10c759a4",
   "metadata": {},
   "outputs": [
    {
     "data": {
      "text/plain": [
       "-1"
      ]
     },
     "execution_count": 100,
     "metadata": {},
     "output_type": "execute_result"
    }
   ],
   "source": [
    "calculator._subtraction(5, 6)"
   ]
  },
  {
   "cell_type": "code",
   "execution_count": 101,
   "id": "8fc6f904",
   "metadata": {},
   "outputs": [
    {
     "data": {
      "text/plain": [
       "0"
      ]
     },
     "execution_count": 101,
     "metadata": {},
     "output_type": "execute_result"
    }
   ],
   "source": [
    "calculator.multiple_subtraction([15,5,4,3,2,1])"
   ]
  },
  {
   "cell_type": "code",
   "execution_count": 102,
   "id": "7149c8be",
   "metadata": {},
   "outputs": [
    {
     "data": {
      "text/plain": [
       "30"
      ]
     },
     "execution_count": 102,
     "metadata": {},
     "output_type": "execute_result"
    }
   ],
   "source": [
    "calculator._multiply(5, 6)"
   ]
  },
  {
   "cell_type": "code",
   "execution_count": 103,
   "id": "20c9f9d2",
   "metadata": {},
   "outputs": [
    {
     "data": {
      "text/plain": [
       "1800"
      ]
     },
     "execution_count": 103,
     "metadata": {},
     "output_type": "execute_result"
    }
   ],
   "source": [
    "calculator.multiple_multiply([15,5,4,3,2,1])"
   ]
  },
  {
   "cell_type": "code",
   "execution_count": 104,
   "id": "1042c10c",
   "metadata": {},
   "outputs": [
    {
     "data": {
      "text/plain": [
       "0.833"
      ]
     },
     "execution_count": 104,
     "metadata": {},
     "output_type": "execute_result"
    }
   ],
   "source": [
    "calculator._division(5, 6)"
   ]
  },
  {
   "cell_type": "code",
   "execution_count": 105,
   "id": "fea84590",
   "metadata": {},
   "outputs": [
    {
     "data": {
      "text/plain": [
       "2.0"
      ]
     },
     "execution_count": 105,
     "metadata": {},
     "output_type": "execute_result"
    }
   ],
   "source": [
    "calculator.multiple_division([24,4,3])"
   ]
  },
  {
   "cell_type": "markdown",
   "id": "4c8f8ec2",
   "metadata": {},
   "source": [
    "# №4"
   ]
  },
  {
   "cell_type": "markdown",
   "id": "43b22e47",
   "metadata": {},
   "source": [
    "Создайте класс Soda (для определения типа газированной воды), принимающий 1 аргумент при инициализации (отвечающий за добавку к выбираемому лимонаду). В этом классе реализуйте метод show_my_drink(), выводящий на печать Газировка и {ДОБАВКА} в случае наличия добавки, а иначе отобразится следующая фраза: Обычная газировка."
   ]
  },
  {
   "cell_type": "code",
   "execution_count": 106,
   "id": "73ac76d7",
   "metadata": {},
   "outputs": [],
   "source": [
    "class Soda(object):\n",
    "    def __init__(self, supplement):\n",
    "        self.supplement = supplement\n",
    "    \n",
    "    def show_my_drink(self):\n",
    "        if self.supplement:\n",
    "            return f'soda with {self.supplement}'\n",
    "        else:\n",
    "            return 'regular soda'"
   ]
  },
  {
   "cell_type": "code",
   "execution_count": 107,
   "id": "255ec914",
   "metadata": {},
   "outputs": [],
   "source": [
    "soda = Soda('')"
   ]
  },
  {
   "cell_type": "code",
   "execution_count": 108,
   "id": "77bd27dd",
   "metadata": {},
   "outputs": [
    {
     "data": {
      "text/plain": [
       "'regular soda'"
      ]
     },
     "execution_count": 108,
     "metadata": {},
     "output_type": "execute_result"
    }
   ],
   "source": [
    "soda.show_my_drink()"
   ]
  },
  {
   "cell_type": "code",
   "execution_count": 109,
   "id": "252b7ca0",
   "metadata": {},
   "outputs": [],
   "source": [
    "soda = Soda('lime')"
   ]
  },
  {
   "cell_type": "code",
   "execution_count": 110,
   "id": "a3a732f9",
   "metadata": {},
   "outputs": [
    {
     "data": {
      "text/plain": [
       "'soda with lime'"
      ]
     },
     "execution_count": 110,
     "metadata": {},
     "output_type": "execute_result"
    }
   ],
   "source": [
    "soda.show_my_drink()"
   ]
  },
  {
   "cell_type": "markdown",
   "id": "dd27495d",
   "metadata": {},
   "source": [
    "# №5"
   ]
  },
  {
   "cell_type": "markdown",
   "id": "b4a76db0",
   "metadata": {},
   "source": [
    "Николаю требуется проверить, возможно ли из представленных отрезков условной длины сформировать треугольник. Для этого он решил создать класс TriangleChecker, принимающий только положительные числа. С помощью метода is_triangle() возвращаются следующие значения (в зависимости от ситуации):\n",
    "\n",
    "– Ура, можно построить треугольник!;\n",
    "\n",
    "– С отрицательными числами ничего не выйдет!;\n",
    "\n",
    "– Нужно вводить только числа!;\n",
    "\n",
    "– Жаль, но из этого треугольник не сделать.\n"
   ]
  },
  {
   "cell_type": "code",
   "execution_count": 111,
   "id": "c92e5ff4",
   "metadata": {},
   "outputs": [],
   "source": [
    "class Triangle_checker(object):\n",
    "    def __init__(self):\n",
    "        pass\n",
    "    \n",
    "    def is_triangle(self, *nums):\n",
    "        \n",
    "        if len(nums) != 3:\n",
    "            return 'must be 3 sections'\n",
    "        \n",
    "        if not (all(map(lambda x: isinstance(x, (int, float)), nums))):\n",
    "                return 'only numbers can be used'\n",
    "        \n",
    "        if any(map(lambda x: x <= 0, nums)):\n",
    "            return 'u cant do a triangle with negative sections'\n",
    "        \n",
    "        if sum(sorted(nums[:-1])) >= sorted(nums)[-1]:\n",
    "            return 'u cant do a triangle with these sections'\n",
    "        \n",
    "        return 'hurray, u can do a triangle with these sections'\n",
    "            "
   ]
  },
  {
   "cell_type": "code",
   "execution_count": 112,
   "id": "fb0502c8",
   "metadata": {},
   "outputs": [],
   "source": [
    "triangle_checker = Triangle_checker()"
   ]
  },
  {
   "cell_type": "code",
   "execution_count": 113,
   "id": "e5659203",
   "metadata": {},
   "outputs": [
    {
     "data": {
      "text/plain": [
       "'u cant do a triangle with these sections'"
      ]
     },
     "execution_count": 113,
     "metadata": {},
     "output_type": "execute_result"
    }
   ],
   "source": [
    "triangle_checker.is_triangle(1,2,3)"
   ]
  },
  {
   "cell_type": "code",
   "execution_count": 114,
   "id": "12e954f3",
   "metadata": {},
   "outputs": [
    {
     "data": {
      "text/plain": [
       "'u cant do a triangle with negative sections'"
      ]
     },
     "execution_count": 114,
     "metadata": {},
     "output_type": "execute_result"
    }
   ],
   "source": [
    "triangle_checker.is_triangle(1,-2,3)"
   ]
  },
  {
   "cell_type": "code",
   "execution_count": 115,
   "id": "1d6c244b",
   "metadata": {},
   "outputs": [
    {
     "data": {
      "text/plain": [
       "'only numbers can be used'"
      ]
     },
     "execution_count": 115,
     "metadata": {},
     "output_type": "execute_result"
    }
   ],
   "source": [
    "triangle_checker.is_triangle(1,'af',3)"
   ]
  },
  {
   "cell_type": "code",
   "execution_count": 116,
   "id": "7e19e38e",
   "metadata": {},
   "outputs": [
    {
     "data": {
      "text/plain": [
       "'hurray, u can do a triangle with these sections'"
      ]
     },
     "execution_count": 116,
     "metadata": {},
     "output_type": "execute_result"
    }
   ],
   "source": [
    "triangle_checker.is_triangle(1,2,4)"
   ]
  },
  {
   "cell_type": "markdown",
   "id": "70f2261b",
   "metadata": {},
   "source": [
    "# №6"
   ]
  },
  {
   "cell_type": "markdown",
   "id": "47c068fc",
   "metadata": {},
   "source": [
    "Евгения создала класс KgToPounds с параметром kg, куда передается определенное количество килограмм, а с помощью метода to_pounds() они переводятся в фунты. Чтобы закрыть доступ к переменной kg она реализовала методы set_kg() - для задания нового значения килограммов, get_kg() - для вывода текущего значения кг. Из-за этого возникло неудобство: нам нужно теперь использовать эти 2 метода для задания и вывода значений. Помогите ей переделать класс с использованием функции property() и свойств-декораторов. Код приведен ниже."
   ]
  },
  {
   "cell_type": "code",
   "execution_count": 117,
   "id": "c34b436d",
   "metadata": {},
   "outputs": [],
   "source": [
    "class KgToPounds(object):\n",
    "    def __init__(self, kg):\n",
    "        self.__kg = kg\n",
    "    \n",
    "    def to_pounds(self):\n",
    "        return self.__kg * 2.205\n",
    "    \n",
    "    @property\n",
    "    def kg(self):\n",
    "        return self.__kg\n",
    "    \n",
    "    @kg.setter\n",
    "    def kg(self, new_kg):\n",
    "        if isinstance(new_kg, (float, int)):\n",
    "            self.__kg = new_kg\n",
    "        else: \n",
    "            raise ValueError('kilogramms must be integer or float')\n",
    "            \n",
    "    def __repr__(self):\n",
    "        return str(self.__kg)\n"
   ]
  },
  {
   "cell_type": "code",
   "execution_count": 118,
   "id": "5b717648",
   "metadata": {},
   "outputs": [],
   "source": [
    "kg = KgToPounds(50)"
   ]
  },
  {
   "cell_type": "code",
   "execution_count": 119,
   "id": "2fd20ba4",
   "metadata": {},
   "outputs": [
    {
     "data": {
      "text/plain": [
       "50"
      ]
     },
     "execution_count": 119,
     "metadata": {},
     "output_type": "execute_result"
    }
   ],
   "source": [
    "kg.kg"
   ]
  },
  {
   "cell_type": "code",
   "execution_count": 120,
   "id": "25af6f08",
   "metadata": {},
   "outputs": [
    {
     "data": {
      "text/plain": [
       "110.25"
      ]
     },
     "execution_count": 120,
     "metadata": {},
     "output_type": "execute_result"
    }
   ],
   "source": [
    "kg.to_pounds()"
   ]
  },
  {
   "cell_type": "code",
   "execution_count": 121,
   "id": "42341d2a",
   "metadata": {},
   "outputs": [],
   "source": [
    "kg.kg = 100"
   ]
  },
  {
   "cell_type": "code",
   "execution_count": 122,
   "id": "d9c5bb30",
   "metadata": {},
   "outputs": [
    {
     "data": {
      "text/plain": [
       "100"
      ]
     },
     "execution_count": 122,
     "metadata": {},
     "output_type": "execute_result"
    }
   ],
   "source": [
    "kg.kg"
   ]
  },
  {
   "cell_type": "markdown",
   "id": "34dd8ac4",
   "metadata": {},
   "source": [
    "# №7"
   ]
  },
  {
   "cell_type": "markdown",
   "id": "58c460f3",
   "metadata": {},
   "source": [
    "Николай – оригинальный человек. Он решил создать класс Nikola, принимающий при инициализации 2 параметра: имя и возраст. Но на этом он не успокоился. Не важно, какое имя передаст пользователь при создании экземпляра, оно всегда будет содержать Николая. В частности - если пользователя на самом деле зовут Николаем, то с именем ничего не произойдет, а если его зовут, например, Максим, то оно преобразуется в Я не Максим, а Николай.\n",
    "\n",
    "Более того, никаких других атрибутов и методов у экземпляра не может быть добавлено, даже если кто-то и вздумает так поступить (т.е. если некий пользователь решит прибавить к экземпляру свойство отчество или метод приветствие, то ничего у такого хитреца не получится).\n"
   ]
  },
  {
   "cell_type": "code",
   "execution_count": 123,
   "id": "dddfe798",
   "metadata": {},
   "outputs": [],
   "source": [
    "from typing import final\n",
    "\n",
    "@final   #@final не дает наследовать и изменять декорированный им класс\n",
    "class Nikola(object):\n",
    "    def __init__(self, name, age):\n",
    "        self.__name = name\n",
    "        self.__age = age\n",
    "        \n",
    "    def my_name(self, new_name):\n",
    "        if new_name == 'Nikola':\n",
    "            return f'My name is Nikola!'\n",
    "        else:\n",
    "            return f'My name isnt {new_name}, but Nikola!'    "
   ]
  },
  {
   "cell_type": "code",
   "execution_count": 125,
   "id": "e7fa7d13",
   "metadata": {},
   "outputs": [],
   "source": [
    "person = Nikola('Nikola', 18)"
   ]
  },
  {
   "cell_type": "code",
   "execution_count": 126,
   "id": "c77b429c",
   "metadata": {},
   "outputs": [
    {
     "data": {
      "text/plain": [
       "'My name is Nikola!'"
      ]
     },
     "execution_count": 126,
     "metadata": {},
     "output_type": "execute_result"
    }
   ],
   "source": [
    "person.my_name('Nikola')"
   ]
  },
  {
   "cell_type": "code",
   "execution_count": 127,
   "id": "77edef61",
   "metadata": {},
   "outputs": [
    {
     "data": {
      "text/plain": [
       "'My name isnt Maksim, but Nikola!'"
      ]
     },
     "execution_count": 127,
     "metadata": {},
     "output_type": "execute_result"
    }
   ],
   "source": [
    "person.my_name('Maksim')"
   ]
  },
  {
   "cell_type": "markdown",
   "id": "59af9357",
   "metadata": {},
   "source": [
    "# №8"
   ]
  },
  {
   "cell_type": "markdown",
   "id": "51680792",
   "metadata": {},
   "source": [
    "Строки в Питоне сравниваются на основании значений символов. Т.е. если мы захотим выяснить, что больше: Apple или Яблоко, – то Яблоко окажется бОльшим. А все потому, что английская буква A имеет значение 65 (берется из таблицы кодировки), а русская буква Я – 1071 (с помощью функции ord() это можно выяснить). Такое положение дел не устроило Анну. Она считает, что строки нужно сравнивать по количеству входящих в них символов.\n",
    "\n",
    "Для этого девушка создала класс RealString и реализовала озвученный инструментарий. Сравнивать между собой можно как объекты класса, так и обычные строки с экземплярами класса RealString. К слову, Анне понадобилось только 3 метода внутри класса (включая __init__()) для воплощения задуманного.\n"
   ]
  },
  {
   "cell_type": "code",
   "execution_count": 153,
   "id": "d22c710f",
   "metadata": {},
   "outputs": [],
   "source": [
    "class RealString(object):\n",
    "    def __init__(self, text):\n",
    "        self.__text = text\n",
    "\n",
    "    def __lt__(self, other):\n",
    "        return len(self.__text) < len(other.__text)\n",
    "\n",
    "    def __gt__(self, other):\n",
    "        return len(self.__text) > len(other.__text)"
   ]
  },
  {
   "cell_type": "code",
   "execution_count": 154,
   "id": "55e9ec6f",
   "metadata": {},
   "outputs": [],
   "source": [
    "str1 = RealString(\"Apple\")\n",
    "str2 = RealString(\"Яблоко\")"
   ]
  },
  {
   "cell_type": "code",
   "execution_count": 155,
   "id": "0a5e287c",
   "metadata": {},
   "outputs": [
    {
     "data": {
      "text/plain": [
       "False"
      ]
     },
     "execution_count": 155,
     "metadata": {},
     "output_type": "execute_result"
    }
   ],
   "source": [
    "str1 > str2"
   ]
  }
 ],
 "metadata": {
  "kernelspec": {
   "display_name": "Python 3 (ipykernel)",
   "language": "python",
   "name": "python3"
  },
  "language_info": {
   "codemirror_mode": {
    "name": "ipython",
    "version": 3
   },
   "file_extension": ".py",
   "mimetype": "text/x-python",
   "name": "python",
   "nbconvert_exporter": "python",
   "pygments_lexer": "ipython3",
   "version": "3.11.4"
  }
 },
 "nbformat": 4,
 "nbformat_minor": 5
}
