{
 "cells": [
  {
   "cell_type": "markdown",
   "id": "936d2de4",
   "metadata": {},
   "source": [
    "## Number 41 Variant 3"
   ]
  },
  {
   "cell_type": "markdown",
   "id": "9de8b59b",
   "metadata": {},
   "source": [
    "#### а) Создать класс «Клиент» с полями «Имя», «Фамилия», «Адрес» и «Номер телефона». Создать хеш-таблицу для хранения объектов класса «Клиент» по ключу — номеру клиентской карты."
   ]
  },
  {
   "cell_type": "code",
   "execution_count": 246,
   "id": "d214c849",
   "metadata": {},
   "outputs": [],
   "source": [
    "class Client:\n",
    "    def __init__(self, name, surname, address, tel_number):\n",
    "        self.name = name\n",
    "        self.surname = surname\n",
    "        self.address = address\n",
    "        self.tel_number = tel_number\n",
    "\n",
    "    def __repr__(self):\n",
    "        return f'Name: {self.name}\\nSurname: {self.surname}\\nAddress: {self.address}\\nTelephone_Number: {self.tel_number}'\n",
    "\n",
    "class HashTable:\n",
    "    def __init__(self, size):\n",
    "        self.size = size\n",
    "        self.table = {str(k): None for k in range(2200_6688_7521_1000, 2200_6688_7521_1000 + size, 1)}\n",
    "    \n",
    "    def insert(self, client):\n",
    "        for index in self.table:\n",
    "            if  not self.table[index]:\n",
    "                self.table[index] = client\n",
    "                break\n",
    "    \n",
    "    def delete(self, criteria):\n",
    "        counter = 0\n",
    "        if criteria in list(self.table.keys()):\n",
    "            self.table[criteria] = None\n",
    "            return 'Successfully deleted'\n",
    "        for key in self.table:\n",
    "            if self.table[key]:\n",
    "                if criteria in list(self.table[key].__dict__.values()):\n",
    "                    self.table[key] = None\n",
    "                    counter = 1\n",
    "        if counter == 1:\n",
    "            return 'Successfully deleted'\n",
    "        raise ValueError('No such client or invalid criteria!')\n",
    "            \n",
    "        \n",
    "    \n",
    "    def show_info(self, number):\n",
    "        return self.table[str(number)]\n"
   ]
  },
  {
   "cell_type": "code",
   "execution_count": 247,
   "id": "da01a215",
   "metadata": {},
   "outputs": [],
   "source": [
    "client1 = Client('Max', 'Bones', 'highway street', '1234')\n",
    "client2 = Client('William', 'Skins', 'highway street', '4321')\n",
    "client3 = Client('Mary', 'Teeth', 'redwall street', '3420')\n",
    "client4 = Client('Boby', 'Teeth', 'redwall street', '1211')\n",
    "client5 = Client('Max', 'Kneel', 'brownwill street', '8706')\n",
    "client6 = Client('Michail', 'Steel', 'New street', '6333')"
   ]
  },
  {
   "cell_type": "code",
   "execution_count": 248,
   "id": "f21a380e",
   "metadata": {},
   "outputs": [],
   "source": [
    "table = HashTable(6)"
   ]
  },
  {
   "cell_type": "code",
   "execution_count": 249,
   "id": "2e20921c",
   "metadata": {},
   "outputs": [],
   "source": [
    "table.insert(client1)\n",
    "table.insert(client2)\n",
    "table.insert(client3)\n",
    "table.insert(client4)\n",
    "table.insert(client5)\n",
    "table.insert(client6)"
   ]
  },
  {
   "cell_type": "code",
   "execution_count": 250,
   "id": "3a60ff37",
   "metadata": {},
   "outputs": [
    {
     "data": {
      "text/plain": [
       "Name: Michail\n",
       "Surname: Steel\n",
       "Address: New street\n",
       "Telephone_Number: 6333"
      ]
     },
     "execution_count": 250,
     "metadata": {},
     "output_type": "execute_result"
    }
   ],
   "source": [
    "table.show_info(2200_6688_7521_1005)"
   ]
  },
  {
   "cell_type": "markdown",
   "id": "def2cc68",
   "metadata": {},
   "source": [
    "#### б) Написать функцию для удаления всех элементов из хеш-таблицы, которые не удовлетворяют заданному условию.\n"
   ]
  },
  {
   "cell_type": "code",
   "execution_count": 251,
   "id": "c25950b8",
   "metadata": {},
   "outputs": [],
   "source": [
    "def delete(self, criteria):\n",
    "        counter = 0\n",
    "        if criteria in list(self.table.keys()):\n",
    "            self.table[criteria] = None\n",
    "            return 'Successfully deleted'\n",
    "        for key in self.table:\n",
    "            if self.table[key]:\n",
    "                if criteria in list(self.table[key].__dict__.values()):\n",
    "                    self.table[key] = None\n",
    "                    counter = 1\n",
    "        if counter == 1:\n",
    "            return 'Successfully deleted'\n",
    "        raise ValueError('No such client or invalid criteria!')"
   ]
  },
  {
   "cell_type": "code",
   "execution_count": 252,
   "id": "cdb5609b",
   "metadata": {},
   "outputs": [
    {
     "data": {
      "text/plain": [
       "'Successfully deleted'"
      ]
     },
     "execution_count": 252,
     "metadata": {},
     "output_type": "execute_result"
    }
   ],
   "source": [
    "table.delete('Teeth')"
   ]
  },
  {
   "cell_type": "code",
   "execution_count": 253,
   "id": "2905877b",
   "metadata": {},
   "outputs": [
    {
     "data": {
      "text/plain": [
       "{'2200668875211000': Name: Max\n",
       " Surname: Bones\n",
       " Address: highway street\n",
       " Telephone_Number: 1234,\n",
       " '2200668875211001': Name: William\n",
       " Surname: Skins\n",
       " Address: highway street\n",
       " Telephone_Number: 4321,\n",
       " '2200668875211002': None,\n",
       " '2200668875211003': None,\n",
       " '2200668875211004': Name: Max\n",
       " Surname: Kneel\n",
       " Address: brownwill street\n",
       " Telephone_Number: 8706,\n",
       " '2200668875211005': Name: Michail\n",
       " Surname: Steel\n",
       " Address: New street\n",
       " Telephone_Number: 6333}"
      ]
     },
     "execution_count": 253,
     "metadata": {},
     "output_type": "execute_result"
    }
   ],
   "source": [
    "table.table"
   ]
  },
  {
   "cell_type": "code",
   "execution_count": 254,
   "id": "447c3a5b",
   "metadata": {},
   "outputs": [
    {
     "ename": "ValueError",
     "evalue": "No such client or invalid criteria!",
     "output_type": "error",
     "traceback": [
      "\u001b[1;31m---------------------------------------------------------------------------\u001b[0m",
      "\u001b[1;31mValueError\u001b[0m                                Traceback (most recent call last)",
      "Cell \u001b[1;32mIn[254], line 1\u001b[0m\n\u001b[1;32m----> 1\u001b[0m table\u001b[38;5;241m.\u001b[39mdelete(\u001b[38;5;124m'\u001b[39m\u001b[38;5;124mFredy\u001b[39m\u001b[38;5;124m'\u001b[39m)\n",
      "Cell \u001b[1;32mIn[246], line 34\u001b[0m, in \u001b[0;36mHashTable.delete\u001b[1;34m(self, criteria)\u001b[0m\n\u001b[0;32m     32\u001b[0m \u001b[38;5;28;01mif\u001b[39;00m counter \u001b[38;5;241m==\u001b[39m \u001b[38;5;241m1\u001b[39m:\n\u001b[0;32m     33\u001b[0m     \u001b[38;5;28;01mreturn\u001b[39;00m \u001b[38;5;124m'\u001b[39m\u001b[38;5;124mSuccessfully deleted\u001b[39m\u001b[38;5;124m'\u001b[39m\n\u001b[1;32m---> 34\u001b[0m \u001b[38;5;28;01mraise\u001b[39;00m \u001b[38;5;167;01mValueError\u001b[39;00m(\u001b[38;5;124m'\u001b[39m\u001b[38;5;124mNo such client or invalid criteria!\u001b[39m\u001b[38;5;124m'\u001b[39m)\n",
      "\u001b[1;31mValueError\u001b[0m: No such client or invalid criteria!"
     ]
    }
   ],
   "source": [
    "table.delete('Fredy')"
   ]
  },
  {
   "cell_type": "markdown",
   "id": "ae77fce8",
   "metadata": {},
   "source": [
    "#### в) Реализуйте хеш-таблицу для хранения информации о студентах университета. Ключом является номер студенческого билета, значение — объект, содержащий информацию о студенте (ФИО, группа, оценки и т.д.). Используйте метод разрешения коллизий методом цепочек."
   ]
  },
  {
   "cell_type": "code",
   "execution_count": 258,
   "id": "b6a80693",
   "metadata": {},
   "outputs": [],
   "source": [
    "class Student:\n",
    "    def __init__(self, name, group, marks):\n",
    "        self.name = name\n",
    "        self.group = group\n",
    "        self.marks = marks\n",
    "\n",
    "class HashTable:\n",
    "    def __init__(self, size):\n",
    "        self.size = size\n",
    "        self.table = [[] for _ in range(size)]\n",
    "\n",
    "    def hash_item(self, key):\n",
    "        return hash(key) % self.size\n",
    "\n",
    "    def set_item(self, key, value):\n",
    "        index = self.hash_item(key)\n",
    "        for pair in self.table[index]:\n",
    "            if pair[0] == key:\n",
    "                pair[1] = value\n",
    "                return\n",
    "        self.table[index].append([key, value])\n",
    "\n",
    "    def get(self, key):\n",
    "        index = self.hash_item(key)\n",
    "        for pair in self.table[index]:\n",
    "            if pair[0] == key:\n",
    "                return pair[1]\n",
    "        raise KeyError(key)\n",
    "\n",
    "    def delete(self, key):\n",
    "        index = self.hash_item(key)\n",
    "        for i, pair in enumerate(self.table[index]):\n",
    "            if pair[0] == key:\n",
    "                del self.table[index][i]\n",
    "                return\n",
    "        raise KeyError(key)"
   ]
  },
  {
   "cell_type": "code",
   "execution_count": 259,
   "id": "919d5c73",
   "metadata": {},
   "outputs": [],
   "source": [
    "student1 = Student('Nikiforov Maksim Alekseevich', 'ID23-2', [4, 5, 4, 5])\n",
    "student2 = Student('Shindyaikin Kirill Evgenievich', 'ID23-2', [5, 5, 5, 3])\n",
    "student3 = Student('Volkov Andrey Maksimovich', 'ID23-2', [3, 4, 4, 4])"
   ]
  },
  {
   "cell_type": "code",
   "execution_count": 260,
   "id": "41d7a86c",
   "metadata": {},
   "outputs": [],
   "source": [
    "hash_table = HashTable(3)\n",
    "hash_table.set_item('233459', student1)\n",
    "hash_table.set_item('233470', student2)\n",
    "hash_table.set_item('233446', student3)"
   ]
  },
  {
   "cell_type": "code",
   "execution_count": 263,
   "id": "37b1d2ca",
   "metadata": {},
   "outputs": [
    {
     "name": "stdout",
     "output_type": "stream",
     "text": [
      "Nikiforov Maksim Alekseevich\n",
      "ID23-2\n",
      "[5, 5, 5, 3]\n"
     ]
    }
   ],
   "source": [
    "print(hash_table.get('233459').name)\n",
    "print(hash_table.get('233446').group)\n",
    "print(hash_table.get('233470').marks)"
   ]
  },
  {
   "cell_type": "code",
   "execution_count": 265,
   "id": "a3042e53",
   "metadata": {},
   "outputs": [],
   "source": [
    "hash_table.delete('233470')"
   ]
  },
  {
   "cell_type": "code",
   "execution_count": 268,
   "id": "78d23c8a",
   "metadata": {},
   "outputs": [
    {
     "data": {
      "text/plain": [
       "[[],\n",
       " [],\n",
       " [['233459', <__main__.Student at 0x21b51c48b50>],\n",
       "  ['233446', <__main__.Student at 0x21b5112f1d0>]]]"
      ]
     },
     "execution_count": 268,
     "metadata": {},
     "output_type": "execute_result"
    }
   ],
   "source": [
    "hash_table.table"
   ]
  },
  {
   "cell_type": "code",
   "execution_count": null,
   "id": "27f3d335",
   "metadata": {},
   "outputs": [],
   "source": []
  }
 ],
 "metadata": {
  "kernelspec": {
   "display_name": "Python 3 (ipykernel)",
   "language": "python",
   "name": "python3"
  },
  "language_info": {
   "codemirror_mode": {
    "name": "ipython",
    "version": 3
   },
   "file_extension": ".py",
   "mimetype": "text/x-python",
   "name": "python",
   "nbconvert_exporter": "python",
   "pygments_lexer": "ipython3",
   "version": "3.11.4"
  }
 },
 "nbformat": 4,
 "nbformat_minor": 5
}
