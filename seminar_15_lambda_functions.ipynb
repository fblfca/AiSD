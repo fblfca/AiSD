{
 "cells": [
  {
   "cell_type": "markdown",
   "id": "93ab3843",
   "metadata": {},
   "source": [
    "## №28"
   ]
  },
  {
   "cell_type": "markdown",
   "id": "2324cc43",
   "metadata": {},
   "source": [
    "#### a) Используя лямбда-фугкцию, отсортировать список кортежей, пример:example = [('england', 44), ('france', 46), ('belgium', 2), ('chezh republick', 88), ('level', 95)]"
   ]
  },
  {
   "cell_type": "code",
   "execution_count": 1,
   "id": "569c68e8",
   "metadata": {},
   "outputs": [
    {
     "data": {
      "text/plain": [
       "[('belgium', 2),\n",
       " ('england', 44),\n",
       " ('france', 46),\n",
       " ('chezh republick', 88),\n",
       " ('level', 95)]"
      ]
     },
     "execution_count": 1,
     "metadata": {},
     "output_type": "execute_result"
    }
   ],
   "source": [
    "example = [('england', 44), ('france', 46), ('belgium', 2), ('chezh republick', 88), ('level', 95)]\n",
    "sorted_ = sorted(example, key = lambda x: x[1])\n",
    "sorted_"
   ]
  },
  {
   "cell_type": "markdown",
   "id": "7d73e414",
   "metadata": {},
   "source": [
    "#### Найдите полиндромы в заданном списке строк с помощью лямбда-функци"
   ]
  },
  {
   "cell_type": "code",
   "execution_count": 2,
   "id": "640bb9e3",
   "metadata": {
    "scrolled": true
   },
   "outputs": [
    {
     "data": {
      "text/plain": [
       "[('level', 95)]"
      ]
     },
     "execution_count": 2,
     "metadata": {},
     "output_type": "execute_result"
    }
   ],
   "source": [
    "polindrom = lambda x: x[0] == (x[0])[::-1]\n",
    "polindroms = list(filter(polindrom, example))\n",
    "polindroms"
   ]
  },
  {
   "cell_type": "markdown",
   "id": "07d7aacb",
   "metadata": {},
   "source": [
    "#### Найти индекс и значение максимального и минимального значений в заданном списке чисел"
   ]
  },
  {
   "cell_type": "code",
   "execution_count": 3,
   "id": "ecf792b5",
   "metadata": {},
   "outputs": [
    {
     "name": "stdout",
     "output_type": "stream",
     "text": [
      "max & index : (('level', 95), 4)\n",
      "min & index : (('belgium', 2), 2)\n"
     ]
    }
   ],
   "source": [
    "max_ = max(example, key = lambda x: x[1])\n",
    "min_ = min(example, key = lambda x: x[1])\n",
    "print(f'max & index : {max_, example.index(max_)}\\nmin & index : {min_, example.index(min_)}')"
   ]
  },
  {
   "cell_type": "markdown",
   "id": "0b494cdf",
   "metadata": {},
   "source": [
    "## №29"
   ]
  },
  {
   "cell_type": "markdown",
   "id": "b28c14d3",
   "metadata": {},
   "source": [
    "#### Сложите три заданных списка, используя map() и лямбда-функцию"
   ]
  },
  {
   "cell_type": "code",
   "execution_count": 4,
   "id": "08fb6b83",
   "metadata": {},
   "outputs": [
    {
     "data": {
      "text/plain": [
       "[116, 159, 183, 528, 571, 771, 37]"
      ]
     },
     "execution_count": 4,
     "metadata": {},
     "output_type": "execute_result"
    }
   ],
   "source": [
    "first = [1, 2, 3, 4, 5, 6, 7]\n",
    "second = [15, 14, 47, 324, 45, 43, 17]\n",
    "third = [100, 143, 133, 200, 521, 722, 13]\n",
    "sum_ = list(map(sum, zip(first, second, third)))\n",
    "sum_"
   ]
  },
  {
   "cell_type": "markdown",
   "id": "d363f3ec",
   "metadata": {},
   "source": [
    "#### Сгенерировать список целых чисел. С помощью функции filter() выбрать из списка все положительные числа и упорядочить их по убыванию. Используя функцию reduce(), найти из произведение  "
   ]
  },
  {
   "cell_type": "code",
   "execution_count": 5,
   "id": "e7d6e6d0",
   "metadata": {},
   "outputs": [],
   "source": [
    "from random import randint as rt\n",
    "from functools import reduce as rd\n",
    "\n",
    "example = [rt(-1000, 1000) for _ in range(rt(50, 75))]"
   ]
  },
  {
   "cell_type": "code",
   "execution_count": 6,
   "id": "90bffe4f",
   "metadata": {},
   "outputs": [
    {
     "name": "stdout",
     "output_type": "stream",
     "text": [
      "[653, 90, -78, -96, -721, 567, -182, -583, -635, -364, -492, -390, -647, 267, 645, -234, -906, -198, -668, 699, -394, -841, 937, 555, -728, 709, 969, 0, -935, -987, -344, -675, 305, -36, -833, 485, 38, 970, 486, 442, -494, 204, 849, -846, 755, -121, 62, -253, -74, -922, 498, 255, -760, -241, 862, -606, -402, 920, -915, -125, -295, -388, 160, 698, -727, -89, 569, 148, -675, -857]\n"
     ]
    }
   ],
   "source": [
    "print(example)"
   ]
  },
  {
   "cell_type": "code",
   "execution_count": 7,
   "id": "047e4a3f",
   "metadata": {},
   "outputs": [],
   "source": [
    "def multiply(x, y):\n",
    "    return x * y"
   ]
  },
  {
   "cell_type": "code",
   "execution_count": 8,
   "id": "9dcdad6b",
   "metadata": {},
   "outputs": [
    {
     "name": "stdout",
     "output_type": "stream",
     "text": [
      "[38, 62, 90, 148, 160, 204, 255, 267, 305, 442, 485, 486, 498, 555, 567, 569, 645, 653, 698, 699, 709, 755, 849, 862, 920, 937, 969, 970]\n"
     ]
    }
   ],
   "source": [
    "corrected = sorted(list(filter(lambda x: x > 0, example)))\n",
    "print(corrected)"
   ]
  },
  {
   "cell_type": "code",
   "execution_count": 9,
   "id": "c9e45a93",
   "metadata": {},
   "outputs": [
    {
     "data": {
      "text/plain": [
       "12889481195967830995707898551473448785686495590618809238376304640000000000"
      ]
     },
     "execution_count": 9,
     "metadata": {},
     "output_type": "execute_result"
    }
   ],
   "source": [
    "multiplication_2 = rd(multiply, corrected)\n",
    "multiplication_2"
   ]
  },
  {
   "cell_type": "code",
   "execution_count": 10,
   "id": "52447ae9",
   "metadata": {},
   "outputs": [
    {
     "data": {
      "text/plain": [
       "12889481195967830995707898551473448785686495590618809238376304640000000000"
      ]
     },
     "execution_count": 10,
     "metadata": {},
     "output_type": "execute_result"
    }
   ],
   "source": [
    "multiplication_1 = rd(multiply,\\\n",
    "                sorted(list(filter(lambda x: x > 0, example))))\n",
    "multiplication_1"
   ]
  },
  {
   "cell_type": "markdown",
   "id": "f6d73f6e",
   "metadata": {},
   "source": [
    "## №30"
   ]
  },
  {
   "cell_type": "markdown",
   "id": "280d61f6",
   "metadata": {},
   "source": [
    "#### Создайте декоратор, который будет выводить на экран аргументы функции и их типы"
   ]
  },
  {
   "cell_type": "code",
   "execution_count": 40,
   "id": "57152c62",
   "metadata": {},
   "outputs": [],
   "source": [
    "from inspect import getfullargspec as getfull\n",
    "\n",
    "def arg_type(function):\n",
    "    def wrapper(*args, **kwargs):\n",
    "        whole_info = getfull(function)\n",
    "        print(\"Args and Types:\")\n",
    "#         print(whole_info)\n",
    "        for index, arg in enumerate(whole_info.args):\n",
    "            print(f\"{arg}: {type(args[index])}\")\n",
    "            \n",
    "        for key, value in kwargs.items():\n",
    "            print(f\"{key}: {type(value)}\")\n",
    "        return function(*args, **kwargs)\n",
    "    return wrapper\n",
    "\n",
    "@arg_type\n",
    "def shop(price, quantity):\n",
    "    print(f\"With product's price: {price}$, and product's quantity: {quantity}\\nYou have to pay: {price * quantity}$$\")"
   ]
  },
  {
   "cell_type": "code",
   "execution_count": 41,
   "id": "7a86c05d",
   "metadata": {},
   "outputs": [
    {
     "name": "stdout",
     "output_type": "stream",
     "text": [
      "Args and Types:\n",
      "price: <class 'float'>\n",
      "quantity: <class 'int'>\n",
      "With product's price: 2.5$, and product's quantity: 37\n",
      "You have to pay: 92.5$$\n"
     ]
    }
   ],
   "source": [
    "shop(2.50, 37)"
   ]
  },
  {
   "cell_type": "markdown",
   "id": "b9c3e17c",
   "metadata": {},
   "source": [
    "#### Создайте декоратор, который будет принимать несколько аргументов и передавать их в функцию в определенном порядке"
   ]
  },
  {
   "cell_type": "code",
   "execution_count": 42,
   "id": "e6f1f9bc",
   "metadata": {},
   "outputs": [],
   "source": [
    "from functools import wraps\n",
    "\n",
    "def reorder_args(arg_order):\n",
    "    def decorator(function):\n",
    "        @wraps(function)\n",
    "        def wrapper(*args, **kwargs):\n",
    "            new_args = [args[index] for index in arg_order]\n",
    "            return function(*new_args, **kwargs)\n",
    "        return wrapper\n",
    "    return decorator\n",
    "\n",
    "@reorder_args([1, 0])\n",
    "def shop_(price, quantity):\n",
    "    print(f\"With product's price: {price}$, and product's quantity: {quantity}\\nYou have to pay: {price * quantity}$$\")"
   ]
  },
  {
   "cell_type": "code",
   "execution_count": 43,
   "id": "62141838",
   "metadata": {},
   "outputs": [
    {
     "name": "stdout",
     "output_type": "stream",
     "text": [
      "With product's price: 37$, and product's quantity: 2.5\n",
      "You have to pay: 92.5$$\n"
     ]
    }
   ],
   "source": [
    "shop_(2.5, 37)"
   ]
  }
 ],
 "metadata": {
  "kernelspec": {
   "display_name": "Python 3 (ipykernel)",
   "language": "python",
   "name": "python3"
  },
  "language_info": {
   "codemirror_mode": {
    "name": "ipython",
    "version": 3
   },
   "file_extension": ".py",
   "mimetype": "text/x-python",
   "name": "python",
   "nbconvert_exporter": "python",
   "pygments_lexer": "ipython3",
   "version": "3.10.9"
  }
 },
 "nbformat": 4,
 "nbformat_minor": 5
}
