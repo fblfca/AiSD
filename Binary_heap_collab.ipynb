{
 "cells": [
  {
   "cell_type": "markdown",
   "id": "142b1c44",
   "metadata": {},
   "source": [
    "## Number 40 Variant 3"
   ]
  },
  {
   "cell_type": "markdown",
   "id": "2c7319e5",
   "metadata": {},
   "source": [
    "#### Даны две двоичные кучи. Напишите функцию, которая объединяет эти две кучи в одну."
   ]
  },
  {
   "cell_type": "code",
   "execution_count": 1,
   "id": "b5a78677",
   "metadata": {},
   "outputs": [],
   "source": [
    "def merge_heaps(heap1, heap2):\n",
    "    # Создаем новый список, который будет представлять объединенную кучу\n",
    "    merged_heap = []\n",
    "\n",
    "    # Добавляем элементы из первой кучи в новый список\n",
    "    while heap1:\n",
    "        merged_heap.append(heap1.pop(0))\n",
    "\n",
    "    # Добавляем элементы из второй кучи в новый список\n",
    "    while heap2:\n",
    "        merged_heap.append(heap2.pop(0))\n",
    "\n",
    "    # Создаем новую кучу из списка\n",
    "    heap = []\n",
    "    for i in range(len(merged_heap)):\n",
    "        heap.append(merged_heap[i])\n",
    "\n",
    "    # Переорганизуем элементы в куче\n",
    "    for i in range(len(heap)):\n",
    "        heap[i] = merged_heap[i]\n",
    "\n",
    "    # Возвращаем объединенную кучу\n",
    "    return heap"
   ]
  },
  {
   "cell_type": "code",
   "execution_count": null,
   "id": "628ae958",
   "metadata": {},
   "outputs": [],
   "source": []
  }
 ],
 "metadata": {
  "kernelspec": {
   "display_name": "Python 3 (ipykernel)",
   "language": "python",
   "name": "python3"
  },
  "language_info": {
   "codemirror_mode": {
    "name": "ipython",
    "version": 3
   },
   "file_extension": ".py",
   "mimetype": "text/x-python",
   "name": "python",
   "nbconvert_exporter": "python",
   "pygments_lexer": "ipython3",
   "version": "3.11.4"
  }
 },
 "nbformat": 4,
 "nbformat_minor": 5
}
