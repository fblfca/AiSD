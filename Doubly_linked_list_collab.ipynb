{
 "cells": [
  {
   "cell_type": "markdown",
   "id": "984ba872",
   "metadata": {},
   "source": [
    "## Number 36 Variant 3"
   ]
  },
  {
   "cell_type": "markdown",
   "id": "a58f1e2a",
   "metadata": {},
   "source": [
    "#### Реализовать функцию, которая проверяет, является ли двусвязный список палиндромом."
   ]
  },
  {
   "cell_type": "code",
   "execution_count": null,
   "id": "9a8eec2e",
   "metadata": {},
   "outputs": [],
   "source": [
    "class Node:\n",
    "    def __init__(self, value):\n",
    "        self.value = value\n",
    "        self.next = None\n",
    "        self.prev = None\n",
    "\n",
    "class DoublyLinkedList:\n",
    "    def __init__(self):\n",
    "        self.head = None\n",
    "        self.tail = None\n",
    "    \n",
    "    def push_front(self, item):\n",
    "        new_node = Node(item)\n",
    "        if self.head == None:\n",
    "            self.head = new_node\n",
    "            self.tail = new_node\n",
    "        else:\n",
    "            new_node.next = self.head\n",
    "            self.head.prev = new_node\n",
    "            self.head = new_node\n",
    "    \n",
    "    def push_back(self, item):\n",
    "        new_node = Node(item)\n",
    "        if self.tail == None:\n",
    "            self.head = new_node\n",
    "            self.tail = new_node\n",
    "        else:\n",
    "            new_node.prev = self.tail\n",
    "            self.tail.next = new_node\n",
    "            self.tail = new_node\n",
    "    @property\n",
    "    def display(self):\n",
    "        current = self.tail\n",
    "        while current:\n",
    "            print(current.value, end = ' ')\n",
    "            current = current.prev\n",
    "        return f'DoublyLinkedList'\n",
    "    \n",
    "    def is_polindrom(self):\n",
    "        first = self.head\n",
    "        last = self.tail\n",
    "        first_items, last_items = [], []\n",
    "        while first.next != last.next:\n",
    "            first_items.append(first.value)\n",
    "            last_items.append(last.value)\n",
    "            first = first.next\n",
    "            last = last.prev\n",
    "            if first.prev == last:\n",
    "                break\n",
    "        if first_items == last_items:\n",
    "            return 'Doubly linked list is a polindrom'\n",
    "        return 'Doubly linked list is not a polindrom'\n",
    "    \n",
    "    def __len__(self):\n",
    "        first, last, counter = self.head, self.tail, 0\n",
    "        while first != last:\n",
    "            counter += 1\n",
    "            first = first.next\n",
    "        return counter + 1"
   ]
  },
  {
   "cell_type": "code",
   "execution_count": 2,
   "id": "171d35fb",
   "metadata": {},
   "outputs": [],
   "source": [
    "list1 = DoublyLinkedList()\n",
    "list2 = DoublyLinkedList()\n",
    "list3 = DoublyLinkedList()"
   ]
  },
  {
   "cell_type": "code",
   "execution_count": 3,
   "id": "53ee6214",
   "metadata": {},
   "outputs": [],
   "source": [
    "list1.push_front(1)\n",
    "list1.push_front(2)\n",
    "list1.push_front(3)\n",
    "list1.push_front(2)\n",
    "list1.push_front(1)\n",
    "\n",
    "list2.push_front('a')\n",
    "list2.push_front('b')\n",
    "list2.push_front('c')\n",
    "list2.push_front('c')\n",
    "list2.push_front('b')\n",
    "list2.push_front('a')\n",
    "\n",
    "list3.push_front(1)\n",
    "list3.push_front(2)\n",
    "list3.push_front(3)\n",
    "list3.push_front(4)"
   ]
  },
  {
   "cell_type": "code",
   "execution_count": 4,
   "id": "fcf16d2a",
   "metadata": {
    "scrolled": true
   },
   "outputs": [
    {
     "name": "stdout",
     "output_type": "stream",
     "text": [
      "1 2 3 2 1 "
     ]
    },
    {
     "data": {
      "text/plain": [
       "'DoublyLinkedList'"
      ]
     },
     "execution_count": 4,
     "metadata": {},
     "output_type": "execute_result"
    }
   ],
   "source": [
    "list1.display"
   ]
  },
  {
   "cell_type": "code",
   "execution_count": 5,
   "id": "92463a99",
   "metadata": {
    "scrolled": true
   },
   "outputs": [
    {
     "name": "stdout",
     "output_type": "stream",
     "text": [
      "a b c c b a "
     ]
    },
    {
     "data": {
      "text/plain": [
       "'DoublyLinkedList'"
      ]
     },
     "execution_count": 5,
     "metadata": {},
     "output_type": "execute_result"
    }
   ],
   "source": [
    "list2.display"
   ]
  },
  {
   "cell_type": "code",
   "execution_count": 6,
   "id": "533ad1c1",
   "metadata": {},
   "outputs": [
    {
     "name": "stdout",
     "output_type": "stream",
     "text": [
      "1 2 3 4 "
     ]
    },
    {
     "data": {
      "text/plain": [
       "'DoublyLinkedList'"
      ]
     },
     "execution_count": 6,
     "metadata": {},
     "output_type": "execute_result"
    }
   ],
   "source": [
    "list3.display"
   ]
  },
  {
   "cell_type": "code",
   "execution_count": 7,
   "id": "4d51752c",
   "metadata": {},
   "outputs": [
    {
     "data": {
      "text/plain": [
       "'Doubly linked list is a polindrom'"
      ]
     },
     "execution_count": 7,
     "metadata": {},
     "output_type": "execute_result"
    }
   ],
   "source": [
    "list1.is_polindrom()"
   ]
  },
  {
   "cell_type": "code",
   "execution_count": 8,
   "id": "1c5306b8",
   "metadata": {},
   "outputs": [
    {
     "data": {
      "text/plain": [
       "'Doubly linked list is a polindrom'"
      ]
     },
     "execution_count": 8,
     "metadata": {},
     "output_type": "execute_result"
    }
   ],
   "source": [
    "list2.is_polindrom()"
   ]
  },
  {
   "cell_type": "code",
   "execution_count": 9,
   "id": "7de7c458",
   "metadata": {},
   "outputs": [
    {
     "data": {
      "text/plain": [
       "'Doubly linked list is not a polindrom'"
      ]
     },
     "execution_count": 9,
     "metadata": {},
     "output_type": "execute_result"
    }
   ],
   "source": [
    "list3.is_polindrom()"
   ]
  },
  {
   "cell_type": "code",
   "execution_count": 10,
   "id": "821ca0f0",
   "metadata": {},
   "outputs": [
    {
     "data": {
      "text/plain": [
       "5"
      ]
     },
     "execution_count": 10,
     "metadata": {},
     "output_type": "execute_result"
    }
   ],
   "source": [
    "len(list1)"
   ]
  },
  {
   "cell_type": "code",
   "execution_count": 11,
   "id": "c524e6d1",
   "metadata": {},
   "outputs": [
    {
     "data": {
      "text/plain": [
       "6"
      ]
     },
     "execution_count": 11,
     "metadata": {},
     "output_type": "execute_result"
    }
   ],
   "source": [
    "len(list2)"
   ]
  },
  {
   "cell_type": "code",
   "execution_count": 12,
   "id": "819640b5",
   "metadata": {},
   "outputs": [
    {
     "data": {
      "text/plain": [
       "4"
      ]
     },
     "execution_count": 12,
     "metadata": {},
     "output_type": "execute_result"
    }
   ],
   "source": [
    "len(list3)"
   ]
  }
 ],
 "metadata": {
  "kernelspec": {
   "display_name": "Python 3 (ipykernel)",
   "language": "python",
   "name": "python3"
  },
  "language_info": {
   "codemirror_mode": {
    "name": "ipython",
    "version": 3
   },
   "file_extension": ".py",
   "mimetype": "text/x-python",
   "name": "python",
   "nbconvert_exporter": "python",
   "pygments_lexer": "ipython3",
   "version": "3.11.4"
  }
 },
 "nbformat": 4,
 "nbformat_minor": 5
}
