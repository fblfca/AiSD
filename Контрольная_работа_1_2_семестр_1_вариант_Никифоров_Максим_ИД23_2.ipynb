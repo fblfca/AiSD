{
 "cells": [
  {
   "cell_type": "markdown",
   "metadata": {},
   "source": [
    "### Контрольная работа № 1.\n",
    "### Вариант 1.\n",
    "#### Студент Никифоров Максим_группа ИД23_2"
   ]
  },
  {
   "cell_type": "markdown",
   "metadata": {},
   "source": [
    "1. Создайте класс Length (Длина), имеющий свойства\n",
    "\n",
    "• value (значение),\n",
    "\n",
    "• unit (единица измерения).\n",
    "\n",
    "При изменении единицы измерения значение должно соответственно меняться. Например, при переходе от сантиметров к метрам значение должно уменьшаться в 100 раз. Допустимые значения свойства unit: ‘см’, ‘м’, ‘км’. Организуйте эту проверку. Продемонстрируйте работу с классом."
   ]
  },
  {
   "cell_type": "code",
   "execution_count": 10,
   "metadata": {},
   "outputs": [],
   "source": [
    "# Решение 1.\n",
    "class Lenght(object):\n",
    "    def __init__(self, value, index):\n",
    "        self.value = value\n",
    "        self.index = index\n",
    "    \n",
    "    def unit(self, measurement):\n",
    "        if measurement == 'sm' and self.index == measurement:\n",
    "            return str(self.value)\n",
    "        if measurement == 'm' and self.index == 'sm':\n",
    "            self.value /= 100\n",
    "            self.index = 'm'\n",
    "            return str(self.value)\n",
    "        if measurement == 'm' and self.index == 'km':\n",
    "            self.value /= 1000\n",
    "            self.index = 'm'\n",
    "            return str(self.value)\n",
    "        if measurement == 'sm' and self.index == 'm':\n",
    "            self.value /= 100\n",
    "            self.index = 'm'\n",
    "            return str(self.value)\n",
    "        if measurement == 'sm' and self.index == 'km':\n",
    "            self.value /= 100000\n",
    "            self.index = 'm'\n",
    "            return str(self.value)\n",
    "        if measurement == 'km' and self.index == 'm':\n",
    "            self.value *= 1000\n",
    "            self.index = 'm'\n",
    "            return str(self.value)\n",
    "        if measurement == 'km' and self.index == 'sm':\n",
    "            self.value *= 100000\n",
    "            self.index = 'm'\n",
    "            return str(self.value)"
   ]
  },
  {
   "cell_type": "code",
   "execution_count": 11,
   "metadata": {},
   "outputs": [],
   "source": [
    "lenght = Lenght(100000, 'sm')"
   ]
  },
  {
   "cell_type": "code",
   "execution_count": 12,
   "metadata": {},
   "outputs": [
    {
     "data": {
      "text/plain": [
       "'100000'"
      ]
     },
     "execution_count": 12,
     "metadata": {},
     "output_type": "execute_result"
    }
   ],
   "source": [
    "lenght.unit('sm')"
   ]
  },
  {
   "cell_type": "code",
   "execution_count": 13,
   "metadata": {},
   "outputs": [
    {
     "data": {
      "text/plain": [
       "'1000.0'"
      ]
     },
     "execution_count": 13,
     "metadata": {},
     "output_type": "execute_result"
    }
   ],
   "source": [
    "lenght.unit('m')"
   ]
  },
  {
   "cell_type": "markdown",
   "metadata": {},
   "source": [
    "2. Создайте класс Ведомость, имеющий атрибут класса:\n",
    "\n",
    "• список_дисциплин (значением является список с названиями дисциплин);\n",
    "\n",
    "свойства:\n",
    "\n",
    "• дисциплина (при задании значения проверять наличие дисциплины в атрибуте список_дисциплин),\n",
    "\n",
    "• группа;\n",
    "\n",
    "методы:\n",
    "\n",
    "• put – добавляет в ведомость информацию об оценке студента (фамилия, оценка – параметры метода). Для хранения данных внутри класса используйте словарь, в котором ключом является фамилия студента. Возможные оценки – «отлично», «хорошо», «удовл.», «неудовл.», «н/я»;\n",
    "\n",
    "• get – возвращает оценку, полученную студентом (фамилия студента – параметр метода);\n",
    "\n",
    "• change – изменяет оценку, полученную студентом (фамилия студента и новая оценка – параметры метода);\n",
    "\n",
    "• del – удаляет информацию о студенте из ведомости (фамилия студента – параметр метода);\n",
    "\n",
    "• result – возвращает кортеж из 5 чисел (количество каждого вида оценок в ведомости);\n",
    "\n",
    "• __init__ – конструктор;\n",
    "\n",
    "• __str__ – возвращает строку, содержащую заголовки (название экзамена, группа) и результаты экзамена в виде таблицы;\n",
    "\n",
    "• count – возвращает количество студентов в ведомости;\n",
    "\n",
    "• names – возвращает список фамилий, имеющихся в ведомости.\n",
    "\n",
    "Продемонстрируйте работу с классом. \n"
   ]
  },
  {
   "cell_type": "code",
   "execution_count": 17,
   "metadata": {},
   "outputs": [],
   "source": [
    "# Решение 2.\n",
    "class Statement(object):\n",
    "    discipline_list = ['Математика', 'Физика', 'История', 'Литература', 'Химия']\n",
    "\n",
    "    def __init__(self, discipline, group):\n",
    "        self.discipline = discipline\n",
    "        self.group = group\n",
    "        self.marks = {}\n",
    "\n",
    "    def put(self, surname, mark):\n",
    "        if mark in ['отлично', 'хорошо', 'удовл.', 'неудовл.', 'н/я']:\n",
    "            self.marks[surname] = mark\n",
    "        else:\n",
    "            print(\"Некорректная оценка. Допустимые значения: отлично, хорошо, удовл., неудовл., н/я\")\n",
    "\n",
    "    def get(self, surname):\n",
    "        return self.marks.get(surname, \"Студент не найден\")\n",
    "\n",
    "    def change(self, surname, new_mark):\n",
    "        if new_mark in ['отлично', 'хорошо', 'удовл.', 'неудовл.', 'н/я']:\n",
    "            self.marks[surname] = new_mark\n",
    "        else:\n",
    "            print(\"Некорректная оценка. Допустимые значения: отлично, хорошо, удовл., неудовл., н/я\")\n",
    "\n",
    "    def del_student(self, surname):\n",
    "        if surname in self.marks:\n",
    "            del self.marks[surname]\n",
    "        else:\n",
    "            print(\"Студент не найден в ведомости\")\n",
    "\n",
    "    def result(self):\n",
    "        marks = list(self.marks.values())\n",
    "        counts = (marks.count('отлично'), marks.count('хорошо'), marks.count('удовл.'), marks.count('неудовл.'), marks.count('н/я'))\n",
    "        return counts\n",
    "\n",
    "    def __str__(self):\n",
    "        name = f\"Экзамен: {self.discipline}\\nГруппа: {self.group}\\n\"\n",
    "        table = \"Фамилия\\t\\tОценка\\n\"\n",
    "        for student, mark in self.marks.items():\n",
    "            table += f\"{student}\\t\\t{mark}\\n\"\n",
    "        return name + table\n",
    "\n",
    "    def count(self):\n",
    "        return len(self.marks)\n",
    "\n",
    "    def names(self):\n",
    "        return list(self.marks.keys())\n"
   ]
  },
  {
   "cell_type": "code",
   "execution_count": 25,
   "metadata": {},
   "outputs": [],
   "source": [
    "math_statement = Statement('Математика', 'Группа А')\n",
    "math_statement.put('Никифоров', 'отлично')\n",
    "math_statement.put('Турунцев', 'хорошо')\n",
    "math_statement.put('Ле', 'удовл.')\n"
   ]
  },
  {
   "cell_type": "code",
   "execution_count": 26,
   "metadata": {},
   "outputs": [
    {
     "name": "stdout",
     "output_type": "stream",
     "text": [
      "Экзамен: Математика\n",
      "Группа: Группа А\n",
      "Фамилия\t\tОценка\n",
      "Никифоров\t\tотлично\n",
      "Турунцев\t\tхорошо\n",
      "Ле\t\tудовл.\n",
      "\n"
     ]
    }
   ],
   "source": [
    "print(math_statement)"
   ]
  },
  {
   "cell_type": "code",
   "execution_count": 27,
   "metadata": {},
   "outputs": [
    {
     "name": "stdout",
     "output_type": "stream",
     "text": [
      "Количество студентов в ведомости: 3\n"
     ]
    }
   ],
   "source": [
    "print(\"Количество студентов в ведомости:\", math_statement.count())"
   ]
  },
  {
   "cell_type": "code",
   "execution_count": 28,
   "metadata": {},
   "outputs": [
    {
     "name": "stdout",
     "output_type": "stream",
     "text": [
      "Фамилии студентов в ведомости: ['Никифоров', 'Турунцев', 'Ле']\n"
     ]
    }
   ],
   "source": [
    "print(\"Фамилии студентов в ведомости:\", math_statement.names())"
   ]
  },
  {
   "cell_type": "code",
   "execution_count": 29,
   "metadata": {},
   "outputs": [
    {
     "name": "stdout",
     "output_type": "stream",
     "text": [
      "Результаты экзамена: (1, 1, 1, 0, 0)\n"
     ]
    }
   ],
   "source": [
    "print(\"Результаты экзамена:\", math_statement.result())"
   ]
  },
  {
   "cell_type": "code",
   "execution_count": 30,
   "metadata": {},
   "outputs": [
    {
     "name": "stdout",
     "output_type": "stream",
     "text": [
      "Экзамен: Математика\n",
      "Группа: Группа А\n",
      "Фамилия\t\tОценка\n",
      "Никифоров\t\tнеудовл.\n",
      "Турунцев\t\tхорошо\n",
      "Ле\t\tудовл.\n",
      "\n"
     ]
    }
   ],
   "source": [
    "math_statement.change('Никифоров', 'неудовл.')\n",
    "print(math_statement)"
   ]
  },
  {
   "cell_type": "code",
   "execution_count": 31,
   "metadata": {},
   "outputs": [
    {
     "name": "stdout",
     "output_type": "stream",
     "text": [
      "Экзамен: Математика\n",
      "Группа: Группа А\n",
      "Фамилия\t\tОценка\n",
      "Никифоров\t\tнеудовл.\n",
      "Ле\t\tудовл.\n",
      "\n"
     ]
    }
   ],
   "source": [
    "math_statement.del_student('Турунцев')\n",
    "print(math_statement)"
   ]
  },
  {
   "cell_type": "markdown",
   "metadata": {},
   "source": [
    "3. Создайте класс Заказ(Order), у которого есть свойства код_товара(code), цена(price), количество(count) и методы __init__ и __str__.\n",
    "\n",
    "Создайте 2 класса-потомка: Опт(Opt) и Розница(Retail).\n",
    "В этих классах создайте методы __init__, __str__.и сумма_заказа(summa), позволяющий узнать стоимость заказа.\n",
    "Для опта стоимость единицы товара составляет 95% от цены, а при покупке более 500 штук – 90% цены.\n",
    "В розницу стоимость единицы товара составляет 100% цены. Стоимость заказа равна произведению цены на количество. \n",
    "\n",
    "Продемонстрируйте работу с классами, создав необходимые объекты и обратившись к их свойствам и методам\n"
   ]
  },
  {
   "cell_type": "code",
   "execution_count": 118,
   "metadata": {},
   "outputs": [],
   "source": [
    "# Решение 3.\n",
    "class Order(object):\n",
    "    def __init__(self, code, price, count):\n",
    "        self.code = code\n",
    "        self.price = price\n",
    "        self.count = count\n",
    "    \n",
    "    def __repr__(self):\n",
    "        return f'заказ: {self.code}\\nстоимость штуки: {self.price}\\nколичество: {self.count}'\n",
    "        \n",
    "class Opt(Order):\n",
    "    def __init__(self, code, price, count):\n",
    "        super().__init__(code, price, count)\n",
    "    \n",
    "    def __repr__(self):\n",
    "        return super().__repr__()\n",
    "    \n",
    "    def summ(self):\n",
    "        if self.count > 500:\n",
    "            return self.count * self.price * 0.9\n",
    "        return self.count * self.price * 0.95\n",
    "\n",
    "class Retail(Order):\n",
    "    def __init__(self):\n",
    "        super().__init__()\n",
    "        \n",
    "    def __repr__(self):\n",
    "        return self.price * self.count"
   ]
  },
  {
   "cell_type": "code",
   "execution_count": 119,
   "metadata": {},
   "outputs": [],
   "source": [
    "order = Order('B22', 20, 510)\n",
    "opt = Opt('A22', 30, 510)"
   ]
  },
  {
   "cell_type": "code",
   "execution_count": 120,
   "metadata": {},
   "outputs": [
    {
     "data": {
      "text/plain": [
       "заказ: B22\n",
       "стоимость штуки: 20\n",
       "количество: 510"
      ]
     },
     "execution_count": 120,
     "metadata": {},
     "output_type": "execute_result"
    }
   ],
   "source": [
    "order"
   ]
  },
  {
   "cell_type": "code",
   "execution_count": 121,
   "metadata": {
    "scrolled": true
   },
   "outputs": [
    {
     "data": {
      "text/plain": [
       "заказ: A22\n",
       "стоимость штуки: 30\n",
       "количество: 510"
      ]
     },
     "execution_count": 121,
     "metadata": {},
     "output_type": "execute_result"
    }
   ],
   "source": [
    "opt"
   ]
  },
  {
   "cell_type": "code",
   "execution_count": 122,
   "metadata": {},
   "outputs": [
    {
     "data": {
      "text/plain": [
       "13770.0"
      ]
     },
     "execution_count": 122,
     "metadata": {},
     "output_type": "execute_result"
    }
   ],
   "source": [
    "opt.summ()"
   ]
  },
  {
   "cell_type": "markdown",
   "metadata": {},
   "source": [
    "4. Написать функцию my_func_1(lst), которая переворачивает список вложенных списков с произвольным уровнем вложенности.\n",
    "Любой элемент, не являющийся списком, не должен быть изменен.\n",
    "\n",
    "Примеры, демонстрирующие ожидаемое поведение функции:\n",
    "\n",
    "assert my_func_1(42) == 42\n",
    "\n",
    "assert my_func_1([]) == []\n",
    "\n",
    "assert my_func_1([1, 2]) == [2, 1]\n",
    "\n",
    "assert my_func_1((1, 2)) == (1, 2)\n",
    "\n",
    "assert my_func_1([[1, 2], [3, [4, 5]], 6]) == [6, [[5, 4], 3], [2, 1]]\n",
    "\n",
    "assert my_func_1(['123', '456', '789', {10: [11, 12], 13: 14}, (15, 16)]) == [(15, 16), {10: [11, 12], 13: 14}, '789', '456', '123']\n",
    "\n",
    "assert my_func_1([[[[[1, 2]]]]]) == [[[[[2, 1]]]]]"
   ]
  },
  {
   "cell_type": "code",
   "execution_count": 76,
   "metadata": {},
   "outputs": [
    {
     "data": {
      "text/plain": [
       "[[2, 3, 1], 2, 1]"
      ]
     },
     "execution_count": 76,
     "metadata": {},
     "output_type": "execute_result"
    }
   ],
   "source": [
    "# Решение 4.\n",
    "def check(list_):\n",
    "    if not isinstance(list_, list):\n",
    "        return list_\n",
    "    return [check(element) for element in reversed(list_)]\n",
    "check([1, 2, [1, 3, 2]])"
   ]
  },
  {
   "cell_type": "markdown",
   "metadata": {},
   "source": [
    "5.При помощи механизма map/filter/reduce возвести в квадрат числа от 1 до 100, и рассчитать их сумму, не включая в сумму числа, кратные 9. Написать реализацию в одну строку."
   ]
  },
  {
   "cell_type": "code",
   "execution_count": 57,
   "metadata": {},
   "outputs": [
    {
     "data": {
      "text/plain": [
       "'сумма квадратов чисел от 0 до 100 включительно не кратных 9 равна: 225589'"
      ]
     },
     "execution_count": 57,
     "metadata": {},
     "output_type": "execute_result"
    }
   ],
   "source": [
    "# Решение 5.\n",
    "def piw(x):\n",
    "    return x**2\n",
    "def check_div(x):\n",
    "    if x % 9 != 0:\n",
    "        return x\n",
    "def sum_(x, y):\n",
    "    return x + y\n",
    "    \n",
    "from functools import reduce\n",
    "sqs = reduce(sum_, list(filter(check_div,list(map(piw, [x for x in range(1,101)])))))\n",
    "f'сумма квадратов чисел от 0 до 100 включительно не кратных 9 равна: {sqs}'\n"
   ]
  },
  {
   "cell_type": "markdown",
   "metadata": {},
   "source": [
    "6.Написать декоратор с параметром my_decorator(n). Декоратор превращает функцию, возвращающую поддерживающий итерации объект (далее \"последовательность\"), в функцию-генератор. Если декорируемая функция возвращает что-то другое, а не последовательность, то декоратор должен вернуть этот результат вызова функции без изменений.\n",
    "\n",
    "Проверку объекта можно организовать при помощи условия import collections if isinstance(item, collections.Iterable)\n",
    "\n",
    "Параметром декоратора может быть целое положительное число n, тогда получившаяся функция-декоратор должна генерировать по одному значению из последовательности, повторенной n раз. Также параметр может принимать строковое значение 'inf', тогда функция-декоратор генерирует по одному значению из последовательности, повторенной бесконечное число раз (зацикливает генерирование результата).\n",
    "\n",
    "Подсказка: сначала реализовать случай со значением аргумента 'inf', а затем модифицировать для целочисленного значения аргумента."
   ]
  },
  {
   "cell_type": "code",
   "execution_count": null,
   "metadata": {},
   "outputs": [],
   "source": [
    "# Решение 6.\n"
   ]
  }
 ],
 "metadata": {
  "kernelspec": {
   "display_name": "Python 3 (ipykernel)",
   "language": "python",
   "name": "python3"
  },
  "language_info": {
   "codemirror_mode": {
    "name": "ipython",
    "version": 3
   },
   "file_extension": ".py",
   "mimetype": "text/x-python",
   "name": "python",
   "nbconvert_exporter": "python",
   "pygments_lexer": "ipython3",
   "version": "3.10.9"
  }
 },
 "nbformat": 4,
 "nbformat_minor": 4
}
