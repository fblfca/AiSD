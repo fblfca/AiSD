{
 "cells": [
  {
   "cell_type": "markdown",
   "id": "17be90dc",
   "metadata": {},
   "source": [
    "## Number 39 Variant 3"
   ]
  },
  {
   "cell_type": "markdown",
   "id": "5bc92dd8",
   "metadata": {},
   "source": [
    "#### Реализовать класс бинарного дерева. Написать функцию для поиска наименьшего и наибольшего элементов в бинарном дереве."
   ]
  },
  {
   "cell_type": "code",
   "execution_count": 219,
   "id": "82718997",
   "metadata": {},
   "outputs": [],
   "source": [
    "class BinaryTree:\n",
    "    def __init__(self, root):\n",
    "        self.root = root\n",
    "        self.left_child = None\n",
    "        self.right_child = None\n",
    "        self.items = [root]\n",
    "    \n",
    "    \n",
    "    def insert_left(self, new_node):\n",
    "        if self.left_child == None:\n",
    "            self.left_child = BinaryTree(new_node)\n",
    "        else:\n",
    "            temp = BinaryTree(new_node)\n",
    "            temp.left_child = self.left_child\n",
    "            self.left_child = temp\n",
    "\n",
    "    \n",
    "    def insert_right(self, new_node):\n",
    "        if self.right_child == None:\n",
    "            self.right_child = BinaryTree(new_node)\n",
    "        else:\n",
    "            temp = BinaryTree(new_node)\n",
    "            temp.right_child = self.right_child\n",
    "            self.right_child = temp\n",
    "\n",
    "    \n",
    "    def set_root_value(self, new_root):\n",
    "        self.root = new_root\n",
    "    \n",
    "    def get_left_child(self):\n",
    "        return self.left_child\n",
    "    \n",
    "    def get_right_child(self):\n",
    "        return self.right_child\n",
    "    \n",
    "    def get_root_value(self):\n",
    "        return self.root\n",
    "    \n",
    "    def get(self):\n",
    "        if self.root is None:\n",
    "            return None\n",
    "        self._get(self.get_left_child())\n",
    "        self._get(self.get_right_child())\n",
    "    \n",
    "    def _get(self, node):\n",
    "        if not node:\n",
    "            return None\n",
    "        self._get(node.get_left_child())\n",
    "        self.items.append(node.get_root_value())\n",
    "        self._get(node.get_right_child())\n",
    "    @property\n",
    "    def min_item(self):\n",
    "        self.get()\n",
    "        return min(self.items)\n",
    "    @property\n",
    "    def max_item(self):\n",
    "        self.get()\n",
    "        return max(self.items)\n",
    "        \n",
    "    \n",
    "    def __repr__(self):\n",
    "        return '{}, ({}, {})'.format(self.get_root_value(), str(self.get_left_child()), str(self.get_right_child()))\n",
    "    \n",
    "        "
   ]
  },
  {
   "cell_type": "code",
   "execution_count": 220,
   "id": "455122bd",
   "metadata": {},
   "outputs": [],
   "source": [
    "my_tree = BinaryTree(41)"
   ]
  },
  {
   "cell_type": "code",
   "execution_count": 221,
   "id": "36b38373",
   "metadata": {},
   "outputs": [
    {
     "data": {
      "text/plain": [
       "41, (None, None)"
      ]
     },
     "execution_count": 221,
     "metadata": {},
     "output_type": "execute_result"
    }
   ],
   "source": [
    "my_tree"
   ]
  },
  {
   "cell_type": "code",
   "execution_count": 222,
   "id": "09245db1",
   "metadata": {},
   "outputs": [],
   "source": [
    "my_tree.insert_left(68)\n",
    "my_tree.get_left_child().insert_left(85)\n",
    "my_tree.get_left_child().get_left_child().insert_right(2)\n",
    "my_tree.insert_right(55)\n",
    "my_tree.get_right_child().insert_left(12)\n",
    "my_tree.get_right_child().insert_right(400)"
   ]
  },
  {
   "cell_type": "code",
   "execution_count": 223,
   "id": "5d37b87d",
   "metadata": {},
   "outputs": [
    {
     "data": {
      "text/plain": [
       "41, (68, (85, (None, 2, (None, None)), None), 55, (12, (None, None), 400, (None, None)))"
      ]
     },
     "execution_count": 223,
     "metadata": {},
     "output_type": "execute_result"
    }
   ],
   "source": [
    "my_tree"
   ]
  },
  {
   "cell_type": "code",
   "execution_count": 224,
   "id": "1776367f",
   "metadata": {},
   "outputs": [
    {
     "data": {
      "text/plain": [
       "55, (12, (None, None), 400, (None, None))"
      ]
     },
     "execution_count": 224,
     "metadata": {},
     "output_type": "execute_result"
    }
   ],
   "source": [
    "my_tree.get_right_child()"
   ]
  },
  {
   "cell_type": "code",
   "execution_count": 225,
   "id": "5fbcd8b0",
   "metadata": {},
   "outputs": [
    {
     "data": {
      "text/plain": [
       "55, (12, (None, None), 400, (None, None))"
      ]
     },
     "execution_count": 225,
     "metadata": {},
     "output_type": "execute_result"
    }
   ],
   "source": [
    "my_tree.get_right_child()"
   ]
  },
  {
   "cell_type": "code",
   "execution_count": 226,
   "id": "ac713224",
   "metadata": {},
   "outputs": [
    {
     "data": {
      "text/plain": [
       "400, (None, None)"
      ]
     },
     "execution_count": 226,
     "metadata": {},
     "output_type": "execute_result"
    }
   ],
   "source": [
    "my_tree.get_right_child().get_right_child()"
   ]
  },
  {
   "cell_type": "code",
   "execution_count": 228,
   "id": "80308395",
   "metadata": {},
   "outputs": [
    {
     "data": {
      "text/plain": [
       "400"
      ]
     },
     "execution_count": 228,
     "metadata": {},
     "output_type": "execute_result"
    }
   ],
   "source": [
    "my_tree.max_item"
   ]
  },
  {
   "cell_type": "code",
   "execution_count": 229,
   "id": "25db45b2",
   "metadata": {},
   "outputs": [
    {
     "data": {
      "text/plain": [
       "2"
      ]
     },
     "execution_count": 229,
     "metadata": {},
     "output_type": "execute_result"
    }
   ],
   "source": [
    "my_tree.min_item"
   ]
  },
  {
   "cell_type": "code",
   "execution_count": null,
   "id": "ca4ea770",
   "metadata": {},
   "outputs": [],
   "source": []
  }
 ],
 "metadata": {},
 "nbformat": 4,
 "nbformat_minor": 5
}
